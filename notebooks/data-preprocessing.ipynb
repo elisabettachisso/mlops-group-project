{
 "cells": [
  {
   "cell_type": "markdown",
   "metadata": {},
   "source": [
    "# Dataset"
   ]
  },
  {
   "cell_type": "markdown",
   "metadata": {},
   "source": [
    "Examin and preprocess the dataset."
   ]
  },
  {
   "cell_type": "code",
   "execution_count": 16,
   "metadata": {},
   "outputs": [],
   "source": [
    "# imports\n",
    "import pandas as pd # it has functions for analyzing, cleaning, exploring, and manipulating data\n",
    "import matplotlib.pyplot as plt # for creating graphs and visualizations\n",
    "from sklearn.model_selection import train_test_split, GridSearchCV # import of modules for dividing the dataset\n",
    "from sklearn.tree import DecisionTreeClassifier # importing Decision Tree classifier\n",
    "from sklearn.metrics import accuracy_score, recall_score, f1_score # import of metrics for model evaluation\n",
    "from sklearn.ensemble import RandomForestClassifier # import of ensemble models\n",
    "from sklearn.neighbors import KNeighborsClassifier # importing KNN classifier\n",
    "import warnings # management of warnings\n",
    "warnings.filterwarnings('ignore')"
   ]
  },
  {
   "cell_type": "markdown",
   "metadata": {},
   "source": [
    "Create the dataset variable."
   ]
  },
  {
   "cell_type": "code",
   "execution_count": 17,
   "metadata": {},
   "outputs": [
    {
     "data": {
      "text/html": [
       "<div>\n",
       "<style scoped>\n",
       "    .dataframe tbody tr th:only-of-type {\n",
       "        vertical-align: middle;\n",
       "    }\n",
       "\n",
       "    .dataframe tbody tr th {\n",
       "        vertical-align: top;\n",
       "    }\n",
       "\n",
       "    .dataframe thead th {\n",
       "        text-align: right;\n",
       "    }\n",
       "</style>\n",
       "<table border=\"1\" class=\"dataframe\">\n",
       "  <thead>\n",
       "    <tr style=\"text-align: right;\">\n",
       "      <th></th>\n",
       "      <th>id</th>\n",
       "      <th>Gender</th>\n",
       "      <th>Age</th>\n",
       "      <th>City</th>\n",
       "      <th>Profession</th>\n",
       "      <th>Academic Pressure</th>\n",
       "      <th>Work Pressure</th>\n",
       "      <th>CGPA</th>\n",
       "      <th>Study Satisfaction</th>\n",
       "      <th>Job Satisfaction</th>\n",
       "      <th>Sleep Duration</th>\n",
       "      <th>Dietary Habits</th>\n",
       "      <th>Degree</th>\n",
       "      <th>Have you ever had suicidal thoughts ?</th>\n",
       "      <th>Work/Study Hours</th>\n",
       "      <th>Financial Stress</th>\n",
       "      <th>Family History of Mental Illness</th>\n",
       "      <th>Depression</th>\n",
       "    </tr>\n",
       "  </thead>\n",
       "  <tbody>\n",
       "    <tr>\n",
       "      <th>0</th>\n",
       "      <td>2</td>\n",
       "      <td>Male</td>\n",
       "      <td>33.0</td>\n",
       "      <td>Visakhapatnam</td>\n",
       "      <td>Student</td>\n",
       "      <td>5.0</td>\n",
       "      <td>0.0</td>\n",
       "      <td>8.97</td>\n",
       "      <td>2.0</td>\n",
       "      <td>0.0</td>\n",
       "      <td>5-6 hours</td>\n",
       "      <td>Healthy</td>\n",
       "      <td>B.Pharm</td>\n",
       "      <td>Yes</td>\n",
       "      <td>3.0</td>\n",
       "      <td>1.0</td>\n",
       "      <td>No</td>\n",
       "      <td>1</td>\n",
       "    </tr>\n",
       "    <tr>\n",
       "      <th>1</th>\n",
       "      <td>8</td>\n",
       "      <td>Female</td>\n",
       "      <td>24.0</td>\n",
       "      <td>Bangalore</td>\n",
       "      <td>Student</td>\n",
       "      <td>2.0</td>\n",
       "      <td>0.0</td>\n",
       "      <td>5.90</td>\n",
       "      <td>5.0</td>\n",
       "      <td>0.0</td>\n",
       "      <td>5-6 hours</td>\n",
       "      <td>Moderate</td>\n",
       "      <td>BSc</td>\n",
       "      <td>No</td>\n",
       "      <td>3.0</td>\n",
       "      <td>2.0</td>\n",
       "      <td>Yes</td>\n",
       "      <td>0</td>\n",
       "    </tr>\n",
       "    <tr>\n",
       "      <th>2</th>\n",
       "      <td>26</td>\n",
       "      <td>Male</td>\n",
       "      <td>31.0</td>\n",
       "      <td>Srinagar</td>\n",
       "      <td>Student</td>\n",
       "      <td>3.0</td>\n",
       "      <td>0.0</td>\n",
       "      <td>7.03</td>\n",
       "      <td>5.0</td>\n",
       "      <td>0.0</td>\n",
       "      <td>Less than 5 hours</td>\n",
       "      <td>Healthy</td>\n",
       "      <td>BA</td>\n",
       "      <td>No</td>\n",
       "      <td>9.0</td>\n",
       "      <td>1.0</td>\n",
       "      <td>Yes</td>\n",
       "      <td>0</td>\n",
       "    </tr>\n",
       "    <tr>\n",
       "      <th>3</th>\n",
       "      <td>30</td>\n",
       "      <td>Female</td>\n",
       "      <td>28.0</td>\n",
       "      <td>Varanasi</td>\n",
       "      <td>Student</td>\n",
       "      <td>3.0</td>\n",
       "      <td>0.0</td>\n",
       "      <td>5.59</td>\n",
       "      <td>2.0</td>\n",
       "      <td>0.0</td>\n",
       "      <td>7-8 hours</td>\n",
       "      <td>Moderate</td>\n",
       "      <td>BCA</td>\n",
       "      <td>Yes</td>\n",
       "      <td>4.0</td>\n",
       "      <td>5.0</td>\n",
       "      <td>Yes</td>\n",
       "      <td>1</td>\n",
       "    </tr>\n",
       "    <tr>\n",
       "      <th>4</th>\n",
       "      <td>32</td>\n",
       "      <td>Female</td>\n",
       "      <td>25.0</td>\n",
       "      <td>Jaipur</td>\n",
       "      <td>Student</td>\n",
       "      <td>4.0</td>\n",
       "      <td>0.0</td>\n",
       "      <td>8.13</td>\n",
       "      <td>3.0</td>\n",
       "      <td>0.0</td>\n",
       "      <td>5-6 hours</td>\n",
       "      <td>Moderate</td>\n",
       "      <td>M.Tech</td>\n",
       "      <td>Yes</td>\n",
       "      <td>1.0</td>\n",
       "      <td>1.0</td>\n",
       "      <td>No</td>\n",
       "      <td>0</td>\n",
       "    </tr>\n",
       "  </tbody>\n",
       "</table>\n",
       "</div>"
      ],
      "text/plain": [
       "   id  Gender   Age           City Profession  Academic Pressure  \\\n",
       "0   2    Male  33.0  Visakhapatnam    Student                5.0   \n",
       "1   8  Female  24.0      Bangalore    Student                2.0   \n",
       "2  26    Male  31.0       Srinagar    Student                3.0   \n",
       "3  30  Female  28.0       Varanasi    Student                3.0   \n",
       "4  32  Female  25.0         Jaipur    Student                4.0   \n",
       "\n",
       "   Work Pressure  CGPA  Study Satisfaction  Job Satisfaction  \\\n",
       "0            0.0  8.97                 2.0               0.0   \n",
       "1            0.0  5.90                 5.0               0.0   \n",
       "2            0.0  7.03                 5.0               0.0   \n",
       "3            0.0  5.59                 2.0               0.0   \n",
       "4            0.0  8.13                 3.0               0.0   \n",
       "\n",
       "      Sleep Duration Dietary Habits   Degree  \\\n",
       "0          5-6 hours        Healthy  B.Pharm   \n",
       "1          5-6 hours       Moderate      BSc   \n",
       "2  Less than 5 hours        Healthy       BA   \n",
       "3          7-8 hours       Moderate      BCA   \n",
       "4          5-6 hours       Moderate   M.Tech   \n",
       "\n",
       "  Have you ever had suicidal thoughts ?  Work/Study Hours  Financial Stress  \\\n",
       "0                                   Yes               3.0               1.0   \n",
       "1                                    No               3.0               2.0   \n",
       "2                                    No               9.0               1.0   \n",
       "3                                   Yes               4.0               5.0   \n",
       "4                                   Yes               1.0               1.0   \n",
       "\n",
       "  Family History of Mental Illness  Depression  \n",
       "0                               No           1  \n",
       "1                              Yes           0  \n",
       "2                              Yes           0  \n",
       "3                              Yes           1  \n",
       "4                               No           0  "
      ]
     },
     "execution_count": 17,
     "metadata": {},
     "output_type": "execute_result"
    }
   ],
   "source": [
    "df = pd.read_csv('Student Depression Dataset.csv')\n",
    "df.head()\n"
   ]
  },
  {
   "cell_type": "markdown",
   "metadata": {},
   "source": [
    "Some columns are not necessary in our project (id, Profession, Work Pressure, Job Satisfaction). Let's remove them from the `df` variable. "
   ]
  },
  {
   "cell_type": "code",
   "execution_count": 18,
   "metadata": {},
   "outputs": [],
   "source": [
    "df.drop(['id'], axis=1, inplace=True)\n",
    "df.drop(['Profession'], axis=1, inplace=True)\n",
    "df.drop(['Work Pressure'], axis=1, inplace=True)\n",
    "df.drop(['Job Satisfaction'], axis=1, inplace=True)"
   ]
  },
  {
   "cell_type": "code",
   "execution_count": 19,
   "metadata": {},
   "outputs": [
    {
     "data": {
      "text/html": [
       "<div>\n",
       "<style scoped>\n",
       "    .dataframe tbody tr th:only-of-type {\n",
       "        vertical-align: middle;\n",
       "    }\n",
       "\n",
       "    .dataframe tbody tr th {\n",
       "        vertical-align: top;\n",
       "    }\n",
       "\n",
       "    .dataframe thead th {\n",
       "        text-align: right;\n",
       "    }\n",
       "</style>\n",
       "<table border=\"1\" class=\"dataframe\">\n",
       "  <thead>\n",
       "    <tr style=\"text-align: right;\">\n",
       "      <th></th>\n",
       "      <th>Gender</th>\n",
       "      <th>Age</th>\n",
       "      <th>City</th>\n",
       "      <th>Academic Pressure</th>\n",
       "      <th>CGPA</th>\n",
       "      <th>Study Satisfaction</th>\n",
       "      <th>Sleep Duration</th>\n",
       "      <th>Dietary Habits</th>\n",
       "      <th>Degree</th>\n",
       "      <th>Have you ever had suicidal thoughts ?</th>\n",
       "      <th>Work/Study Hours</th>\n",
       "      <th>Financial Stress</th>\n",
       "      <th>Family History of Mental Illness</th>\n",
       "      <th>Depression</th>\n",
       "    </tr>\n",
       "  </thead>\n",
       "  <tbody>\n",
       "    <tr>\n",
       "      <th>0</th>\n",
       "      <td>Male</td>\n",
       "      <td>33.0</td>\n",
       "      <td>Visakhapatnam</td>\n",
       "      <td>5.0</td>\n",
       "      <td>8.97</td>\n",
       "      <td>2.0</td>\n",
       "      <td>5-6 hours</td>\n",
       "      <td>Healthy</td>\n",
       "      <td>B.Pharm</td>\n",
       "      <td>Yes</td>\n",
       "      <td>3.0</td>\n",
       "      <td>1.0</td>\n",
       "      <td>No</td>\n",
       "      <td>1</td>\n",
       "    </tr>\n",
       "    <tr>\n",
       "      <th>1</th>\n",
       "      <td>Female</td>\n",
       "      <td>24.0</td>\n",
       "      <td>Bangalore</td>\n",
       "      <td>2.0</td>\n",
       "      <td>5.90</td>\n",
       "      <td>5.0</td>\n",
       "      <td>5-6 hours</td>\n",
       "      <td>Moderate</td>\n",
       "      <td>BSc</td>\n",
       "      <td>No</td>\n",
       "      <td>3.0</td>\n",
       "      <td>2.0</td>\n",
       "      <td>Yes</td>\n",
       "      <td>0</td>\n",
       "    </tr>\n",
       "    <tr>\n",
       "      <th>2</th>\n",
       "      <td>Male</td>\n",
       "      <td>31.0</td>\n",
       "      <td>Srinagar</td>\n",
       "      <td>3.0</td>\n",
       "      <td>7.03</td>\n",
       "      <td>5.0</td>\n",
       "      <td>Less than 5 hours</td>\n",
       "      <td>Healthy</td>\n",
       "      <td>BA</td>\n",
       "      <td>No</td>\n",
       "      <td>9.0</td>\n",
       "      <td>1.0</td>\n",
       "      <td>Yes</td>\n",
       "      <td>0</td>\n",
       "    </tr>\n",
       "    <tr>\n",
       "      <th>3</th>\n",
       "      <td>Female</td>\n",
       "      <td>28.0</td>\n",
       "      <td>Varanasi</td>\n",
       "      <td>3.0</td>\n",
       "      <td>5.59</td>\n",
       "      <td>2.0</td>\n",
       "      <td>7-8 hours</td>\n",
       "      <td>Moderate</td>\n",
       "      <td>BCA</td>\n",
       "      <td>Yes</td>\n",
       "      <td>4.0</td>\n",
       "      <td>5.0</td>\n",
       "      <td>Yes</td>\n",
       "      <td>1</td>\n",
       "    </tr>\n",
       "    <tr>\n",
       "      <th>4</th>\n",
       "      <td>Female</td>\n",
       "      <td>25.0</td>\n",
       "      <td>Jaipur</td>\n",
       "      <td>4.0</td>\n",
       "      <td>8.13</td>\n",
       "      <td>3.0</td>\n",
       "      <td>5-6 hours</td>\n",
       "      <td>Moderate</td>\n",
       "      <td>M.Tech</td>\n",
       "      <td>Yes</td>\n",
       "      <td>1.0</td>\n",
       "      <td>1.0</td>\n",
       "      <td>No</td>\n",
       "      <td>0</td>\n",
       "    </tr>\n",
       "  </tbody>\n",
       "</table>\n",
       "</div>"
      ],
      "text/plain": [
       "   Gender   Age           City  Academic Pressure  CGPA  Study Satisfaction  \\\n",
       "0    Male  33.0  Visakhapatnam                5.0  8.97                 2.0   \n",
       "1  Female  24.0      Bangalore                2.0  5.90                 5.0   \n",
       "2    Male  31.0       Srinagar                3.0  7.03                 5.0   \n",
       "3  Female  28.0       Varanasi                3.0  5.59                 2.0   \n",
       "4  Female  25.0         Jaipur                4.0  8.13                 3.0   \n",
       "\n",
       "      Sleep Duration Dietary Habits   Degree  \\\n",
       "0          5-6 hours        Healthy  B.Pharm   \n",
       "1          5-6 hours       Moderate      BSc   \n",
       "2  Less than 5 hours        Healthy       BA   \n",
       "3          7-8 hours       Moderate      BCA   \n",
       "4          5-6 hours       Moderate   M.Tech   \n",
       "\n",
       "  Have you ever had suicidal thoughts ?  Work/Study Hours  Financial Stress  \\\n",
       "0                                   Yes               3.0               1.0   \n",
       "1                                    No               3.0               2.0   \n",
       "2                                    No               9.0               1.0   \n",
       "3                                   Yes               4.0               5.0   \n",
       "4                                   Yes               1.0               1.0   \n",
       "\n",
       "  Family History of Mental Illness  Depression  \n",
       "0                               No           1  \n",
       "1                              Yes           0  \n",
       "2                              Yes           0  \n",
       "3                              Yes           1  \n",
       "4                               No           0  "
      ]
     },
     "execution_count": 19,
     "metadata": {},
     "output_type": "execute_result"
    }
   ],
   "source": [
    "df.head()"
   ]
  },
  {
   "cell_type": "markdown",
   "metadata": {},
   "source": [
    "In our dataset we have some columns with categorical data, but for machine learning process we will use algotithms that require numeric data. "
   ]
  },
  {
   "cell_type": "code",
   "execution_count": 20,
   "metadata": {},
   "outputs": [],
   "source": [
    "def convert_column_to_numeric(df, col):\n",
    "    # create a dict for 'Yes' and 'No' values\n",
    "    value_to_number = {}\n",
    "    if 'Yes' in df[col].values and 'No' in df[col].values:\n",
    "        value_to_number['Yes'] = 1\n",
    "        value_to_number['No'] = 0\n",
    "\n",
    "    # manage 'Healthy', 'Moderate', 'Unhealthy' values separately\n",
    "    if 'Healthy' in df[col].values:\n",
    "        value_to_number['Healthy'] = 2\n",
    "    if 'Moderate' in df[col].values:\n",
    "        value_to_number['Moderate'] = 1\n",
    "    if 'Unhealthy' in df[col].values:\n",
    "        value_to_number['Unhealthy'] = 0\n",
    "\n",
    "    # create a dict\n",
    "    unique_values = df[col].unique()\n",
    "    for idx, value in enumerate(unique_values):\n",
    "        if value not in value_to_number:  # ignore already mapped values\n",
    "            value_to_number[value] = len(value_to_number)\n",
    "\n",
    "    # convert column\n",
    "    df[col] = df[col].map(value_to_number)\n",
    "\n",
    "    return df, value_to_number"
   ]
  },
  {
   "cell_type": "code",
   "execution_count": 21,
   "metadata": {},
   "outputs": [
    {
     "data": {
      "text/html": [
       "<div>\n",
       "<style scoped>\n",
       "    .dataframe tbody tr th:only-of-type {\n",
       "        vertical-align: middle;\n",
       "    }\n",
       "\n",
       "    .dataframe tbody tr th {\n",
       "        vertical-align: top;\n",
       "    }\n",
       "\n",
       "    .dataframe thead th {\n",
       "        text-align: right;\n",
       "    }\n",
       "</style>\n",
       "<table border=\"1\" class=\"dataframe\">\n",
       "  <thead>\n",
       "    <tr style=\"text-align: right;\">\n",
       "      <th></th>\n",
       "      <th>Gender</th>\n",
       "      <th>Age</th>\n",
       "      <th>City</th>\n",
       "      <th>Academic Pressure</th>\n",
       "      <th>CGPA</th>\n",
       "      <th>Study Satisfaction</th>\n",
       "      <th>Sleep Duration</th>\n",
       "      <th>Dietary Habits</th>\n",
       "      <th>Degree</th>\n",
       "      <th>Have you ever had suicidal thoughts ?</th>\n",
       "      <th>Work/Study Hours</th>\n",
       "      <th>Financial Stress</th>\n",
       "      <th>Family History of Mental Illness</th>\n",
       "      <th>Depression</th>\n",
       "    </tr>\n",
       "  </thead>\n",
       "  <tbody>\n",
       "    <tr>\n",
       "      <th>0</th>\n",
       "      <td>0</td>\n",
       "      <td>33.0</td>\n",
       "      <td>0</td>\n",
       "      <td>5.0</td>\n",
       "      <td>8.97</td>\n",
       "      <td>2.0</td>\n",
       "      <td>5-6 hours</td>\n",
       "      <td>2</td>\n",
       "      <td>0</td>\n",
       "      <td>1</td>\n",
       "      <td>3.0</td>\n",
       "      <td>1.0</td>\n",
       "      <td>0</td>\n",
       "      <td>1</td>\n",
       "    </tr>\n",
       "    <tr>\n",
       "      <th>1</th>\n",
       "      <td>1</td>\n",
       "      <td>24.0</td>\n",
       "      <td>1</td>\n",
       "      <td>2.0</td>\n",
       "      <td>5.90</td>\n",
       "      <td>5.0</td>\n",
       "      <td>5-6 hours</td>\n",
       "      <td>1</td>\n",
       "      <td>1</td>\n",
       "      <td>0</td>\n",
       "      <td>3.0</td>\n",
       "      <td>2.0</td>\n",
       "      <td>1</td>\n",
       "      <td>0</td>\n",
       "    </tr>\n",
       "    <tr>\n",
       "      <th>2</th>\n",
       "      <td>0</td>\n",
       "      <td>31.0</td>\n",
       "      <td>2</td>\n",
       "      <td>3.0</td>\n",
       "      <td>7.03</td>\n",
       "      <td>5.0</td>\n",
       "      <td>Less than 5 hours</td>\n",
       "      <td>2</td>\n",
       "      <td>2</td>\n",
       "      <td>0</td>\n",
       "      <td>9.0</td>\n",
       "      <td>1.0</td>\n",
       "      <td>1</td>\n",
       "      <td>0</td>\n",
       "    </tr>\n",
       "    <tr>\n",
       "      <th>3</th>\n",
       "      <td>1</td>\n",
       "      <td>28.0</td>\n",
       "      <td>3</td>\n",
       "      <td>3.0</td>\n",
       "      <td>5.59</td>\n",
       "      <td>2.0</td>\n",
       "      <td>7-8 hours</td>\n",
       "      <td>1</td>\n",
       "      <td>3</td>\n",
       "      <td>1</td>\n",
       "      <td>4.0</td>\n",
       "      <td>5.0</td>\n",
       "      <td>1</td>\n",
       "      <td>1</td>\n",
       "    </tr>\n",
       "    <tr>\n",
       "      <th>4</th>\n",
       "      <td>1</td>\n",
       "      <td>25.0</td>\n",
       "      <td>4</td>\n",
       "      <td>4.0</td>\n",
       "      <td>8.13</td>\n",
       "      <td>3.0</td>\n",
       "      <td>5-6 hours</td>\n",
       "      <td>1</td>\n",
       "      <td>4</td>\n",
       "      <td>1</td>\n",
       "      <td>1.0</td>\n",
       "      <td>1.0</td>\n",
       "      <td>0</td>\n",
       "      <td>0</td>\n",
       "    </tr>\n",
       "  </tbody>\n",
       "</table>\n",
       "</div>"
      ],
      "text/plain": [
       "   Gender   Age  City  Academic Pressure  CGPA  Study Satisfaction  \\\n",
       "0       0  33.0     0                5.0  8.97                 2.0   \n",
       "1       1  24.0     1                2.0  5.90                 5.0   \n",
       "2       0  31.0     2                3.0  7.03                 5.0   \n",
       "3       1  28.0     3                3.0  5.59                 2.0   \n",
       "4       1  25.0     4                4.0  8.13                 3.0   \n",
       "\n",
       "      Sleep Duration  Dietary Habits  Degree  \\\n",
       "0          5-6 hours               2       0   \n",
       "1          5-6 hours               1       1   \n",
       "2  Less than 5 hours               2       2   \n",
       "3          7-8 hours               1       3   \n",
       "4          5-6 hours               1       4   \n",
       "\n",
       "   Have you ever had suicidal thoughts ?  Work/Study Hours  Financial Stress  \\\n",
       "0                                      1               3.0               1.0   \n",
       "1                                      0               3.0               2.0   \n",
       "2                                      0               9.0               1.0   \n",
       "3                                      1               4.0               5.0   \n",
       "4                                      1               1.0               1.0   \n",
       "\n",
       "   Family History of Mental Illness  Depression  \n",
       "0                                 0           1  \n",
       "1                                 1           0  \n",
       "2                                 1           0  \n",
       "3                                 1           1  \n",
       "4                                 0           0  "
      ]
     },
     "execution_count": 21,
     "metadata": {},
     "output_type": "execute_result"
    }
   ],
   "source": [
    "# convert categorical data\n",
    "convert_column_to_numeric(df, 'Gender') # Male 0, Female 1\n",
    "convert_column_to_numeric(df, 'Dietary Habits')\n",
    "convert_column_to_numeric(df, 'Degree')\n",
    "convert_column_to_numeric(df, 'Have you ever had suicidal thoughts ?')\n",
    "convert_column_to_numeric(df, 'Family History of Mental Illness')\n",
    "convert_column_to_numeric(df, 'City')\n",
    "\n",
    "df.head()"
   ]
  },
  {
   "cell_type": "markdown",
   "metadata": {},
   "source": [
    "For Sleep Duration column we apply a different conversion."
   ]
  },
  {
   "cell_type": "code",
   "execution_count": 22,
   "metadata": {},
   "outputs": [
    {
     "name": "stdout",
     "output_type": "stream",
     "text": [
      "<class 'pandas.core.series.Series'>\n",
      "RangeIndex: 27901 entries, 0 to 27900\n",
      "Series name: Sleep Duration\n",
      "Non-Null Count  Dtype  \n",
      "--------------  -----  \n",
      "27901 non-null  float64\n",
      "dtypes: float64(1)\n",
      "memory usage: 218.1 KB\n"
     ]
    }
   ],
   "source": [
    "# convert from string to float\n",
    "convert = {\n",
    "    '5-6 hours': 5.5,\n",
    "    'Less than 5 hours': 4.5,\n",
    "    '7-8 hours': 7.5,\n",
    "    'More than 8 hours': 8.5,\n",
    "    'Others': 0\n",
    "}\n",
    "\n",
    "df['Sleep Duration'] = df['Sleep Duration'].map(convert)\n",
    "df['Sleep Duration'] = df['Sleep Duration'].astype(float)\n",
    "df['Sleep Duration'].info()"
   ]
  },
  {
   "cell_type": "code",
   "execution_count": 23,
   "metadata": {},
   "outputs": [
    {
     "name": "stdout",
     "output_type": "stream",
     "text": [
      "<class 'pandas.core.frame.DataFrame'>\n",
      "RangeIndex: 27901 entries, 0 to 27900\n",
      "Data columns (total 14 columns):\n",
      " #   Column                                 Non-Null Count  Dtype  \n",
      "---  ------                                 --------------  -----  \n",
      " 0   Gender                                 27901 non-null  int64  \n",
      " 1   Age                                    27901 non-null  float64\n",
      " 2   City                                   27901 non-null  int64  \n",
      " 3   Academic Pressure                      27901 non-null  float64\n",
      " 4   CGPA                                   27901 non-null  float64\n",
      " 5   Study Satisfaction                     27901 non-null  float64\n",
      " 6   Sleep Duration                         27901 non-null  float64\n",
      " 7   Dietary Habits                         27901 non-null  int64  \n",
      " 8   Degree                                 27901 non-null  int64  \n",
      " 9   Have you ever had suicidal thoughts ?  27901 non-null  int64  \n",
      " 10  Work/Study Hours                       27901 non-null  float64\n",
      " 11  Financial Stress                       27898 non-null  float64\n",
      " 12  Family History of Mental Illness       27901 non-null  int64  \n",
      " 13  Depression                             27901 non-null  int64  \n",
      "dtypes: float64(7), int64(7)\n",
      "memory usage: 3.0 MB\n"
     ]
    }
   ],
   "source": [
    "df.info()"
   ]
  },
  {
   "cell_type": "markdown",
   "metadata": {},
   "source": [
    "We check if we have any empty cell in our data and get rid of them."
   ]
  },
  {
   "cell_type": "code",
   "execution_count": 24,
   "metadata": {},
   "outputs": [
    {
     "data": {
      "text/plain": [
       "Gender                                   0\n",
       "Age                                      0\n",
       "City                                     0\n",
       "Academic Pressure                        0\n",
       "CGPA                                     0\n",
       "Study Satisfaction                       0\n",
       "Sleep Duration                           0\n",
       "Dietary Habits                           0\n",
       "Degree                                   0\n",
       "Have you ever had suicidal thoughts ?    0\n",
       "Work/Study Hours                         0\n",
       "Financial Stress                         3\n",
       "Family History of Mental Illness         0\n",
       "Depression                               0\n",
       "dtype: int64"
      ]
     },
     "execution_count": 24,
     "metadata": {},
     "output_type": "execute_result"
    }
   ],
   "source": [
    "df.isna().sum()"
   ]
  },
  {
   "cell_type": "code",
   "execution_count": 25,
   "metadata": {},
   "outputs": [
    {
     "data": {
      "text/plain": [
       "Gender                                   0\n",
       "Age                                      0\n",
       "City                                     0\n",
       "Academic Pressure                        0\n",
       "CGPA                                     0\n",
       "Study Satisfaction                       0\n",
       "Sleep Duration                           0\n",
       "Dietary Habits                           0\n",
       "Degree                                   0\n",
       "Have you ever had suicidal thoughts ?    0\n",
       "Work/Study Hours                         0\n",
       "Financial Stress                         0\n",
       "Family History of Mental Illness         0\n",
       "Depression                               0\n",
       "dtype: int64"
      ]
     },
     "execution_count": 25,
     "metadata": {},
     "output_type": "execute_result"
    }
   ],
   "source": [
    "df = df.dropna()\n",
    "df.isna().sum()"
   ]
  },
  {
   "cell_type": "code",
   "execution_count": 26,
   "metadata": {},
   "outputs": [
    {
     "name": "stdout",
     "output_type": "stream",
     "text": [
      "Gender                                     2\n",
      "Age                                       34\n",
      "City                                      52\n",
      "Academic Pressure                          6\n",
      "CGPA                                     332\n",
      "Study Satisfaction                         6\n",
      "Sleep Duration                             5\n",
      "Dietary Habits                             4\n",
      "Degree                                    28\n",
      "Have you ever had suicidal thoughts ?      2\n",
      "Work/Study Hours                          13\n",
      "Financial Stress                           5\n",
      "Family History of Mental Illness           2\n",
      "Depression                                 2\n",
      "dtype: int64\n"
     ]
    }
   ],
   "source": [
    "unique = df.nunique()\n",
    "print(unique)"
   ]
  },
  {
   "cell_type": "markdown",
   "metadata": {},
   "source": [
    "# Machine Learing"
   ]
  },
  {
   "cell_type": "markdown",
   "metadata": {},
   "source": [
    "We will create some machine learning models that will classify our students if they have depression or not. Our classifiers will be:\n",
    "* Decision Tree\n",
    "* Random Forest\n",
    "* KNN"
   ]
  },
  {
   "cell_type": "code",
   "execution_count": 27,
   "metadata": {},
   "outputs": [],
   "source": [
    "# split the data\n",
    "X = df.drop('Depression', axis=1)\n",
    "y = df['Depression']\n",
    "\n",
    "X_train, X_test, y_train, y_test = train_test_split(X, y, test_size=0.2, random_state=40)"
   ]
  },
  {
   "cell_type": "markdown",
   "metadata": {},
   "source": [
    "Train Decision Tree Classifier"
   ]
  },
  {
   "cell_type": "code",
   "execution_count": 28,
   "metadata": {},
   "outputs": [
    {
     "name": "stdout",
     "output_type": "stream",
     "text": [
      "Accuracy Score: 0.8245519713261649\n",
      "Recall Score: 0.8245519713261649\n",
      "F1 Score: 0.8250522601063395\n"
     ]
    }
   ],
   "source": [
    "# create parameters\n",
    "params = {'criterion': ['gini', 'log_loss', 'entropy'],\n",
    "          'max_depth': [None, 5, 10, 15, 20],\n",
    "          'min_samples_split': [2, 4, 5, 7, 9],\n",
    "          'min_samples_leaf': [1, 2, 4, 5, 6]}\n",
    "\n",
    "# train a GridSearchCV\n",
    "grid = GridSearchCV(DecisionTreeClassifier(), params, cv=5).fit(X_train, y_train)\n",
    "\n",
    "# train Decision Tree classifier\n",
    "dtc = DecisionTreeClassifier(**grid.best_params_).fit(X_train, y_train)\n",
    "y_hat = dtc.predict(X_test)\n",
    "\n",
    "# evaluate its performance\n",
    "dtc_accuracy = accuracy_score(y_test, y_hat)\n",
    "dtc_recall = recall_score(y_test, y_hat, average='weighted')\n",
    "dtc_f1 = f1_score(y_test, y_hat, average='weighted')\n",
    "\n",
    "# print the performance results\n",
    "print(f'''Accuracy Score: {dtc_accuracy}\n",
    "Recall Score: {dtc_recall}\n",
    "F1 Score: {dtc_f1}''')"
   ]
  },
  {
   "cell_type": "markdown",
   "metadata": {},
   "source": [
    "Random Forest Classifier"
   ]
  },
  {
   "cell_type": "code",
   "execution_count": 29,
   "metadata": {},
   "outputs": [
    {
     "name": "stdout",
     "output_type": "stream",
     "text": [
      "Accuracy Score: 0.8354838709677419\n",
      "Recall Score: 0.8354838709677419\n",
      "F1 Score: 0.8339606856306848\n"
     ]
    }
   ],
   "source": [
    "# train Random Forest Classifier\n",
    "rfc = RandomForestClassifier(**grid.best_params_).fit(X_train, y_train)\n",
    "y_hat = rfc.predict(X_test)\n",
    "\n",
    "# evaluate its performance\n",
    "rfc_accuracy = accuracy_score(y_test, y_hat)\n",
    "rfc_recall = recall_score(y_test, y_hat, average='weighted')\n",
    "rfc_f1 = f1_score(y_test, y_hat, average='weighted')\n",
    "\n",
    "# print the performance results\n",
    "print(f'''Accuracy Score: {rfc_accuracy}\n",
    "Recall Score: {rfc_recall}\n",
    "F1 Score: {rfc_f1}''')"
   ]
  },
  {
   "cell_type": "markdown",
   "metadata": {},
   "source": [
    "K-Nearest Neighbors Classifier"
   ]
  },
  {
   "cell_type": "code",
   "execution_count": 30,
   "metadata": {},
   "outputs": [
    {
     "name": "stdout",
     "output_type": "stream",
     "text": [
      "KNN Classifier Performance:\n",
      "Accuracy Score: 0.7987455197132617\n",
      "Recall Score: 0.7987455197132617\n",
      "F1 Score: 0.7958081382865043\n"
     ]
    }
   ],
   "source": [
    "# Define the parameter grid for KNN\n",
    "knn_params = {\n",
    "    'n_neighbors': [3, 5, 7, 9, 11],  # Number of neighbors to consider\n",
    "    'weights': ['uniform', 'distance'],  # Weight function used in prediction\n",
    "    'metric': ['euclidean', 'manhattan', 'minkowski']  # Distance metric to use\n",
    "}\n",
    "\n",
    "# Perform GridSearchCV to find the best parameters for KNN\n",
    "knn_grid = GridSearchCV(KNeighborsClassifier(), knn_params, cv=5).fit(X_train, y_train)\n",
    "\n",
    "# Train the KNN classifier with the best parameters found\n",
    "knn = KNeighborsClassifier(**knn_grid.best_params_).fit(X_train, y_train)\n",
    "y_hat_knn = knn.predict(X_test)\n",
    "\n",
    "# Evaluate the performance of the KNN model\n",
    "knn_accuracy = accuracy_score(y_test, y_hat_knn)  # Calculate accuracy\n",
    "knn_recall = recall_score(y_test, y_hat_knn, average='weighted')  # Calculate recall\n",
    "knn_f1 = f1_score(y_test, y_hat_knn, average='weighted')  # Calculate F1 score\n",
    "\n",
    "# Print the performance results\n",
    "print(f'''KNN Classifier Performance:\n",
    "Accuracy Score: {knn_accuracy}\n",
    "Recall Score: {knn_recall}\n",
    "F1 Score: {knn_f1}''')"
   ]
  },
  {
   "cell_type": "markdown",
   "metadata": {},
   "source": [
    "For selecting the best model we will create a graph and see performance evaluation."
   ]
  },
  {
   "cell_type": "code",
   "execution_count": 31,
   "metadata": {},
   "outputs": [
    {
     "data": {
      "text/html": [
       "<div>\n",
       "<style scoped>\n",
       "    .dataframe tbody tr th:only-of-type {\n",
       "        vertical-align: middle;\n",
       "    }\n",
       "\n",
       "    .dataframe tbody tr th {\n",
       "        vertical-align: top;\n",
       "    }\n",
       "\n",
       "    .dataframe thead th {\n",
       "        text-align: right;\n",
       "    }\n",
       "</style>\n",
       "<table border=\"1\" class=\"dataframe\">\n",
       "  <thead>\n",
       "    <tr style=\"text-align: right;\">\n",
       "      <th></th>\n",
       "      <th>Decision Tree</th>\n",
       "      <th>Random Forest</th>\n",
       "      <th>K-Nearest Neighbors</th>\n",
       "    </tr>\n",
       "  </thead>\n",
       "  <tbody>\n",
       "    <tr>\n",
       "      <th>Accuracy</th>\n",
       "      <td>0.824552</td>\n",
       "      <td>0.835484</td>\n",
       "      <td>0.798746</td>\n",
       "    </tr>\n",
       "    <tr>\n",
       "      <th>Recall</th>\n",
       "      <td>0.824552</td>\n",
       "      <td>0.835484</td>\n",
       "      <td>0.798746</td>\n",
       "    </tr>\n",
       "    <tr>\n",
       "      <th>F1</th>\n",
       "      <td>0.825052</td>\n",
       "      <td>0.833961</td>\n",
       "      <td>0.795808</td>\n",
       "    </tr>\n",
       "  </tbody>\n",
       "</table>\n",
       "</div>"
      ],
      "text/plain": [
       "          Decision Tree  Random Forest  K-Nearest Neighbors\n",
       "Accuracy       0.824552       0.835484             0.798746\n",
       "Recall         0.824552       0.835484             0.798746\n",
       "F1             0.825052       0.833961             0.795808"
      ]
     },
     "execution_count": 31,
     "metadata": {},
     "output_type": "execute_result"
    }
   ],
   "source": [
    "# create scores dictionary\n",
    "scores = {'Decision Tree': [dtc_accuracy, dtc_recall, dtc_f1],\n",
    "          'Random Forest': [rfc_accuracy, rfc_recall, rfc_f1],\n",
    "          'K-Nearest Neighbors': [knn_accuracy, knn_recall, knn_f1]}\n",
    "\n",
    "# create the data frame and show it\n",
    "scores_table = pd.DataFrame(scores)\n",
    "scores_table.index = ['Accuracy', 'Recall', 'F1']\n",
    "scores_table.head()"
   ]
  },
  {
   "cell_type": "code",
   "execution_count": 32,
   "metadata": {},
   "outputs": [
    {
     "data": {
      "image/png": "[encoded data removed]",
      "text/plain": [
       "<Figure size 2000x1000 with 1 Axes>"
      ]
     },
     "metadata": {},
     "output_type": "display_data"
    }
   ],
   "source": [
    "# create and show the graph\n",
    "scores_table.T.plot(kind='bar', figsize=(20, 10))\n",
    "plt.title('Performance Evaluation')\n",
    "plt.xlabel('Models')\n",
    "plt.ylabel('Score')\n",
    "plt.ylim([0,1])\n",
    "plt.grid()\n",
    "plt.show()"
   ]
  },
  {
   "cell_type": "markdown",
   "metadata": {},
   "source": [
    "From results, we can see that we generally have scores above 80%. Our models are successful generally. The best performance index is Random Forest so we will select it for our project."
   ]
  }
 ],
 "metadata": {
  "kernelspec": {
   "display_name": ".venv",
   "language": "python",
   "name": "python3"
  },
  "language_info": {
   "codemirror_mode": {
    "name": "ipython",
    "version": 3
   },
   "file_extension": ".py",
   "mimetype": "text/x-python",
   "name": "python",
   "nbconvert_exporter": "python",
   "pygments_lexer": "ipython3",
   "version": "3.12.7"
  }
 },
 "nbformat": 4,
 "nbformat_minor": 2
}
